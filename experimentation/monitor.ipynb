{
 "cells": [
  {
   "cell_type": "code",
   "execution_count": null,
   "metadata": {},
   "outputs": [],
   "source": [
    "from simulator import Simulator\n",
    "import random\n",
    "import collections\n",
    "\n",
    "import matplotlib.pyplot as plt\n",
    "import seaborn as sns\n",
    "\n",
    "sns.set()"
   ]
  },
  {
   "cell_type": "code",
   "execution_count": null,
   "metadata": {},
   "outputs": [],
   "source": [
    "n_wells = 100\n",
    "n_technicians = 10"
   ]
  },
  {
   "cell_type": "code",
   "execution_count": null,
   "metadata": {},
   "outputs": [],
   "source": [
    "def get_daily_production_rate(sim):\n",
    "    rates = []\n",
    "    for _ in range(24):\n",
    "        sim.step_hour()\n",
    "        state = sim.get_state()\n",
    "        for well in state['wells']:\n",
    "            rates.append(well['production_rate'])\n",
    "    return state['time'], sum(rates) / len(rates)        "
   ]
  },
  {
   "cell_type": "code",
   "execution_count": null,
   "metadata": {},
   "outputs": [],
   "source": [
    "# run the simulator for 6 months to get a baseline and then collect data for 6 months:\n",
    "sim = Simulator(n_wells=n_wells, n_technicians=n_technicians, seed=17)\n",
    "for _ in range(356):\n",
    "    get_daily_production_rate(sim)\n",
    "rates = []\n",
    "for _ in range(356):\n",
    "    rates.append(get_daily_production_rate(sim))"
   ]
  },
  {
   "cell_type": "code",
   "execution_count": null,
   "metadata": {
    "scrolled": true
   },
   "outputs": [],
   "source": [
    "# now run it for 6 months while asking for everything to be serviced every day ... \n",
    "# you should update this to actually call your model and determine which ones should get serviced and with\n",
    "# what priority (higher priority will be serviced first). You can schedule the same well and issue to be serviced\n",
    "# even if you did it in previous steps - if your well isn't already being serviced for that issue, it'll be updated\n",
    "# in the maintenance queue with the new priority you've specified. You can have a well being serviced for all issues\n",
    "# at the same time if you want.\n",
    "for _ in range(365):\n",
    "    for well_id in range(n_wells):\n",
    "        issue = random.choice(('broken_gear', 'cracked_valve', 'jammed_rotor'))\n",
    "        sim.schedule_maintenance(well_id, issue, priority=random.random())\n",
    "    rates.append(get_daily_production_rate(sim))"
   ]
  },
  {
   "cell_type": "code",
   "execution_count": null,
   "metadata": {},
   "outputs": [],
   "source": [
    "x = [i[0] for i in rates]\n",
    "y = [i[1] for i in rates]\n",
    "\n",
    "fig, ax = plt.subplots(1, 1, figsize=(15, 6))\n",
    "ax.plot(x, y)\n",
    "plt.show()"
   ]
  }
 ],
 "metadata": {
  "kernelspec": {
   "display_name": "Python 3",
   "language": "python",
   "name": "python3"
  },
  "language_info": {
   "codemirror_mode": {
    "name": "ipython",
    "version": 3
   },
   "file_extension": ".py",
   "mimetype": "text/x-python",
   "name": "python",
   "nbconvert_exporter": "python",
   "pygments_lexer": "ipython3",
   "version": "3.7.7"
  }
 },
 "nbformat": 4,
 "nbformat_minor": 4
}
