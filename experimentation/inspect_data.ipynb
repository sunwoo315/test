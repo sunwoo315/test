{
 "cells": [
  {
   "cell_type": "code",
   "execution_count": null,
   "metadata": {},
   "outputs": [],
   "source": [
    "import pandas as pd\n",
    "import numpy as np\n",
    "\n",
    "# fix paths:\n",
    "import fix_path\n",
    "\n",
    "from experimentation.generate_data import generate_data_csv\n",
    "from oilwells.prepare.prepare import add_time_to_failure\n",
    "\n",
    "%matplotlib inline\n",
    "import matplotlib.pyplot as plt\n",
    "\n",
    "import os\n",
    "import seaborn as sns\n",
    "sns.set()"
   ]
  },
  {
   "cell_type": "markdown",
   "execution_count": null,
   "metadata": {},
   "outputs": [],
   "source": [
    "### Brief data exploration\n",
    "\n",
    "You can see more details [here](https://github.com/joehahn/predictive-maintenance-sim) but this quickly runs through to show we're getting similar data."
   ]
  },
  {
   "cell_type": "code",
   "execution_count": null,
   "metadata": {},
   "outputs": [],
   "source": [
    "data_dir = '../data'\n",
    "os.makedirs(data_dir, exist_ok=True)\n",
    "path = os.path.join(data_dir, 'oilwells.csv')\n",
    "# Just try with 50 wells for 3 years for now.\n",
    "generate_data_csv(path, days=365*3, n_wells=50, n_technicians=5, seed=17)\n",
    "df = pd.read_csv(path, parse_dates=['time'])\n",
    "df = add_time_to_failure(df)  # This runs our data preprocessing step locally\n",
    "df"
   ]
  },
  {
   "cell_type": "markdown",
   "execution_count": null,
   "metadata": {},
   "outputs": [],
   "source": [
    "### Pick a device and plot it"
   ]
  },
  {
   "cell_type": "code",
   "execution_count": null,
   "metadata": {},
   "outputs": [],
   "source": [
    "well_id = 0\n",
    "well = df.query(f'id == {well_id}')\n",
    "x = well.time\n",
    "fig, ax = plt.subplots(1, 1, figsize=(15, 6))\n",
    "ax2 = ax.twinx()\n",
    "ax2.grid(False)\n",
    "p = ax.plot(x, well.production_rate, linestyle='-', label='production')\n",
    "p = ax2.plot(x, well.hours_to_failure, linestyle='-', label='hours to failure', color='black')\n",
    "for issue in well.issue.unique().tolist():\n",
    "    if pd.isnull(issue):\n",
    "        continue\n",
    "    with_issue = well[well.issue == issue]\n",
    "    if with_issue.shape[0] > 0:\n",
    "        x = with_issue.time\n",
    "        y = with_issue.production_rate\n",
    "        p = ax.plot(x, y, linestyle='none', marker='o', markersize=10, label=issue)\n",
    "    p = ax2.plot(well.time, well[f\"{issue}_hours_to_failure\"], linestyle=':', label=f'{issue} hours to failure', linewidth=5)\n",
    "p = ax.set_title(f'production efficiency vs time for deviceID={well_id}')\n",
    "p = ax.set_xlabel('time')\n",
    "p = ax.set_ylabel('production efficiency')\n",
    "leg = ax.legend(loc='center left')\n",
    "leg = ax2.legend(loc='center right')\n",
    "plt.show();"
   ]
  },
  {
   "cell_type": "markdown",
   "execution_count": null,
   "metadata": {},
   "outputs": [],
   "source": [
    "### Do jammed rotor faults occur at abnormal pressures/temperatures?"
   ]
  },
  {
   "cell_type": "code",
   "execution_count": null,
   "metadata": {},
   "outputs": [],
   "source": [
    "# only sample a certain number of points:\n",
    "sample_idx = np.random.choice(np.arange(df.shape[0]), max(10000, int(df.shape[0] / 10)))\n",
    "x = df.temperature[sample_idx]\n",
    "y = df.pressure[sample_idx]\n",
    "fig, ax = plt.subplots(1, 1, figsize=(8, 8))\n",
    "p = ax.plot(x, y, marker='.', markersize=1, linestyle='none', alpha=0.4, label='operating')\n",
    "x = df.temperature[df.issue == 'jammed_rotor']\n",
    "y = df.pressure[df.issue == 'jammed_rotor']\n",
    "p = ax.plot(x, y, marker='.', markersize=3, linestyle='none', alpha=0.4, label=issue, color='red')\n",
    "p = ax.plot(0, 0, marker='+', linestyle='none', markersize=15, color='black', mew=1, label='sweet spot')\n",
    "p = ax.set_title(issue + ' occurances')\n",
    "p = ax.set_xlabel(r'temperature T')\n",
    "p = ax.set_ylabel(r'pressure P')\n",
    "p = ax.set_xlim(-1.5, 1.5)\n",
    "p = ax.set_ylim(-1.5, 1.5)\n",
    "leg = ax.legend(numpoints=1)\n",
    "for lh in leg.legendHandles: \n",
    "    lh.set_alpha(1.0)\n",
    "    lh.set_linewidth(2.0)\n",
    "    lh.set_marker('o')\n",
    "    lh.set_markersize(5.0)\n",
    "plt.show();"
   ]
  }
 ],
 "metadata": {
  "kernelspec": {
   "display_name": "Python 3",
   "language": "python",
   "name": "python3"
  },
  "language_info": {
   "codemirror_mode": {
    "name": "ipython",
    "version": 3
   },
   "file_extension": ".py",
   "mimetype": "text/x-python",
   "name": "python",
   "nbconvert_exporter": "python",
   "pygments_lexer": "ipython3",
   "version": "3.7.7-final"
  }
 },
 "nbformat": 4,
 "nbformat_minor": 4
}